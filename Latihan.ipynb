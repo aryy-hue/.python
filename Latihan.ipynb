{
 "cells": [
  {
   "cell_type": "code",
   "execution_count": 1,
   "metadata": {},
   "outputs": [
    {
     "name": "stdout",
     "output_type": "stream",
     "text": [
      "5\n"
     ]
    }
   ],
   "source": [
    "# Contoh Function\n",
    "def tambah(angka1,angka2):\n",
    "    hasil = angka1 + angka2\n",
    "    return hasil\n",
    "print(tambah(2,3))"
   ]
  },
  {
   "cell_type": "code",
   "execution_count": 2,
   "metadata": {},
   "outputs": [
    {
     "name": "stdout",
     "output_type": "stream",
     "text": [
      "Hari ini bukan hari kerja\n",
      "\n"
     ]
    }
   ],
   "source": [
    "hari = input(\"Masukan hari apa ini ? \")\n",
    "def jenis_hari(hari):\n",
    "    if hari == \"senin\":\n",
    "        print(\"Hari ini upcara\")\n",
    "    elif hari == \"selasa\":\n",
    "        print(\"Hari ini tidak upacara , hari ini hari kerja\")\n",
    "    elif hari == \"rabu\":\n",
    "        print(\"Hari ini tidak upacara , hari ini hari kerja\")\n",
    "    elif hari == \"kamis\":\n",
    "        print(\"Hari ini tidak upacara , hari ini hari kerja\")\n",
    "    elif hari == \"jumat\":\n",
    "        print(\"Hari ini tidak upacara , hari ini hari kerja\")\n",
    "    else:\n",
    "        print(\"Hari ini bukan hari kerja\")\n",
    "    return hari\n",
    "print(jenis_hari(hari))"
   ]
  },
  {
   "cell_type": "code",
   "execution_count": 3,
   "metadata": {},
   "outputs": [
    {
     "name": "stdout",
     "output_type": "stream",
     "text": [
      "Selamat Pagi,Andi!\n",
      "Halo,Andi!\n"
     ]
    }
   ],
   "source": [
    "def ucapan(salutasi , nama):\n",
    "    print(salutasi + ','  + nama + \"!\")\n",
    "ucapan(\"Selamat Pagi\" , \"Andi\")\n",
    "ucapan(salutasi=\"Halo\" , nama=\"Andi\")"
   ]
  },
  {
   "cell_type": "code",
   "execution_count": 4,
   "metadata": {},
   "outputs": [
    {
     "name": "stdout",
     "output_type": "stream",
     "text": [
      "jenis hewan pertama adalah ayam\n",
      "jenis hewan kedua adalah harimau\n",
      "jenis hewan ketiga adalah harimau\n",
      "jenis hewan adalah gajah\n"
     ]
    }
   ],
   "source": [
    "def hewan():\n",
    "    def hewan1():\n",
    "        jenis = \"angsa\"\n",
    "    def hewan2():\n",
    "        nonlocal jenis\n",
    "        jenis = \"harimau\"\n",
    "    def hewan3():\n",
    "        global jenis\n",
    "        jenis = \"gajah\"\n",
    "\n",
    "    jenis = \"ayam\"\n",
    "    hewan1()\n",
    "    print(f\"jenis hewan pertama adalah {jenis}\")\n",
    "    hewan2()\n",
    "    print(f\"jenis hewan kedua adalah {jenis}\")\n",
    "    hewan3()\n",
    "    print(f\"jenis hewan ketiga adalah {jenis}\")\n",
    "    return hewan\n",
    "\n",
    "hewan()\n",
    "print(f\"jenis hewan adalah {jenis}\")"
   ]
  },
  {
   "cell_type": "code",
   "execution_count": 7,
   "metadata": {},
   "outputs": [
    {
     "name": "stdout",
     "output_type": "stream",
     "text": [
      "3 bukan Happy Number\n"
     ]
    }
   ],
   "source": [
    "def is_happy_number(n):\n",
    "    def get_next_number(num):\n",
    "        next_num = 0\n",
    "        while num > 0:\n",
    "            digit = num % 10\n",
    "            next_num += digit ** 2\n",
    "            num //= 10\n",
    "        return next_num\n",
    "\n",
    "    seen = set() \n",
    "    while n != 1 and n not in seen:\n",
    "        seen.add(n)\n",
    "        n = get_next_number(n)\n",
    "\n",
    "    return n == 1\n",
    "\n",
    "n = int(input('masukkan angka : ' ))\n",
    "result = is_happy_number(n)\n",
    "if result:\n",
    "    print(f\"{n} adalah Happy Number\")\n",
    "else:\n",
    "    print(f\"{n} bukan Happy Number\")"
   ]
  },
  {
   "cell_type": "code",
   "execution_count": 4,
   "metadata": {},
   "outputs": [
    {
     "name": "stdout",
     "output_type": "stream",
     "text": [
      "Gaji rata-rata tidak termasuk gaji minimum dan maksimum: 5500.0\n"
     ]
    }
   ],
   "source": [
    "# Mendefinisikan sebuah fungsi bernama gaji_ratarata_min_dan_max dengan satu parameter salary. \n",
    "def gaji_ratarata_min_dan_max(salary): \n",
    "    # Mengurutkan list 'salary' dari terkecil ke terbesar. \n",
    "    salary.sort() \n",
    "    # Menghapus elemen pertama gaji terendah dan elemen terakhir gaji tertinggi dari list salary. \n",
    "    salary = salary[1:-1] \n",
    "    # Menghitung rata-rata gaji dari elemen-elemen yang tersisa dalam list. \n",
    "    gaji_ratarata = sum(salary) / len(salary) \n",
    "    # Mengembalikan nilai rata-rata gaji. \n",
    "    return gaji_ratarata\n",
    "\n",
    "# Meminta input dari pengguna, dalam bentuk string yang berisi gaji-gaji karyawan yang dipisahkan oleh spasi. \n",
    "salary_input = input(\"Masukkan gaji karyawan: \").split() \n",
    "# Mengonversi string input menjadi list integer salary. \n",
    "salary = [int(sal) for sal in salary_input] \n",
    "\n",
    "# Memanggil fungsi gaji_ratarata_min_dan_max dengan list salary sebagai argumen. \n",
    "gaji_ratarata = gaji_ratarata_min_dan_max(salary) \n",
    "\n",
    "# Mencetak rata-rata gaji tanpa memasukkan gaji terendah dan tertinggi  \n",
    "print(\"Gaji rata-rata tidak termasuk gaji minimum dan maksimum: %.1f\" % gaji_ratarata)\n"
   ]
  },
  {
   "cell_type": "code",
   "execution_count": 7,
   "metadata": {},
   "outputs": [
    {
     "name": "stdout",
     "output_type": "stream",
     "text": [
      "Angka keberuntungan dalam matriks adalah: [2]\n"
     ]
    }
   ],
   "source": [
    "import numpy as np\n",
    "\n",
    "# Fungsi 'angka_keberuntungan' untuk mencari angka keberuntungan dalam matriks.\n",
    "def angka_keberuntungan(matriks):\n",
    "    # Menggunakan NumPy untuk membuat matriks dari input.\n",
    "    matriks = np.array(matriks)\n",
    "\n",
    "    # Mencari elemen minimum dalam setiap baris menggunakan np.min dengan axis=1.\n",
    "    min_per_baris = np.min(matriks, axis=1)\n",
    "\n",
    "    # Mencari elemen maksimum dalam setiap kolom menggunakan np.max dengan axis=0.\n",
    "    max_per_kolom = np.max(matriks, axis=0)\n",
    "\n",
    "    # Menggunakan operasi himpunan (set) untuk menemukan angka-angka yang sama antara\n",
    "    # 'min_per_baris' dan 'max_per_kolom'.\n",
    "    angka_keberuntungan = list(set(min_per_baris) & set(max_per_kolom))\n",
    "\n",
    "    # Mengembalikan hasil dalam bentuk daftar (list) sebagai angka keberuntungan.\n",
    "    return angka_keberuntungan\n",
    "\n",
    "# Meminta pengguna untuk memasukkan matriks dalam format yang telah disebutkan.\n",
    "matriks_input = input(\"Masukkan angka matriks (format: [[a, b, c], [d, e, f], [g, h, i]]): \")\n",
    "\n",
    "# Menggunakan fungsi 'eval' untuk mengonversi input pengguna menjadi matriks.\n",
    "matriks = eval(matriks_input)\n",
    "\n",
    "# Memanggil fungsi 'angka_keberuntungan' dengan matriks sebagai argumen.\n",
    "hasil = angka_keberuntungan(matriks)\n",
    "\n",
    "# Mencetak angka-angka keberuntungan yang ditemukan dalam matriks.\n",
    "print(\"Angka keberuntungan dalam matriks adalah:\", hasil)\n"
   ]
  },
  {
   "cell_type": "code",
   "execution_count": 9,
   "metadata": {},
   "outputs": [
    {
     "ename": "ModuleNotFoundError",
     "evalue": "No module named 'matplotlib'",
     "output_type": "error",
     "traceback": [
      "\u001b[1;31m---------------------------------------------------------------------------\u001b[0m",
      "\u001b[1;31mModuleNotFoundError\u001b[0m                       Traceback (most recent call last)",
      "\u001b[1;32md:\\.Arya\\.Perkuliahan\\Semester 3\\Pemrograman Dasar\\.python\\Latihan.ipynb Cell 8\u001b[0m line \u001b[0;36m2\n\u001b[0;32m      <a href='vscode-notebook-cell:/d%3A/.Arya/.Perkuliahan/Semester%203/Pemrograman%20Dasar/.python/Latihan.ipynb#X10sZmlsZQ%3D%3D?line=0'>1</a>\u001b[0m \u001b[39m# Import library matplotlib.pyplot sebagai plt untuk membuat grafik\u001b[39;00m\n\u001b[1;32m----> <a href='vscode-notebook-cell:/d%3A/.Arya/.Perkuliahan/Semester%203/Pemrograman%20Dasar/.python/Latihan.ipynb#X10sZmlsZQ%3D%3D?line=1'>2</a>\u001b[0m \u001b[39mimport\u001b[39;00m \u001b[39mmatplotlib\u001b[39;00m\u001b[39m.\u001b[39;00m\u001b[39mpyplot\u001b[39;00m \u001b[39mas\u001b[39;00m \u001b[39mplt\u001b[39;00m\n\u001b[0;32m      <a href='vscode-notebook-cell:/d%3A/.Arya/.Perkuliahan/Semester%203/Pemrograman%20Dasar/.python/Latihan.ipynb#X10sZmlsZQ%3D%3D?line=3'>4</a>\u001b[0m \u001b[39m# Fungsi 'dapatkan_keuntungan_maksimal' untuk menghitung keuntungan maksimal dari investasi saham\u001b[39;00m\n\u001b[0;32m      <a href='vscode-notebook-cell:/d%3A/.Arya/.Perkuliahan/Semester%203/Pemrograman%20Dasar/.python/Latihan.ipynb#X10sZmlsZQ%3D%3D?line=4'>5</a>\u001b[0m \u001b[39mdef\u001b[39;00m \u001b[39mdapatkan_keuntungan_maksimal\u001b[39m(harga_saham):\n",
      "\u001b[1;31mModuleNotFoundError\u001b[0m: No module named 'matplotlib'"
     ]
    }
   ],
   "source": [
    "# Import library matplotlib.pyplot sebagai plt untuk membuat grafik\n",
    "import matplotlib.pyplot as plt\n",
    "\n",
    "# Fungsi 'dapatkan_keuntungan_maksimal' untuk menghitung keuntungan maksimal dari investasi saham\n",
    "def dapatkan_keuntungan_maksimal(harga_saham):\n",
    "    if len(harga_saham) < 1:\n",
    "        return 0, {}\n",
    "\n",
    "    keuntungan_maksimal = 0\n",
    "    harga_tertinggi = 0\n",
    "    indeks_harga_tertinggi = 0\n",
    "    harga_terendah = harga_saham[0]\n",
    "    indeks_harga_terendah = 0\n",
    "\n",
    "    for i, harga in enumerate(harga_saham):\n",
    "        if harga < harga_terendah:\n",
    "            harga_terendah = harga\n",
    "            indeks_harga_terendah = i\n",
    "        else:\n",
    "            keuntungan = harga - harga_terendah\n",
    "            if keuntungan > keuntungan_maksimal:\n",
    "                keuntungan_maksimal = keuntungan\n",
    "                harga_tertinggi = harga\n",
    "                indeks_harga_tertinggi = i\n",
    "\n",
    "    metadata = {\n",
    "        'harga_terendah': {'nilai': harga_terendah, 'indeks': indeks_harga_terendah},\n",
    "        'harga_tertinggi': {'nilai': harga_tertinggi, 'indeks': indeks_harga_tertinggi}\n",
    "    }\n",
    "\n",
    "    return keuntungan_maksimal, metadata\n",
    "\n",
    "# Meminta input dari pengguna dalam bentuk string (harga saham dipisahkan dengan spasi)\n",
    "harga_saham_sebagai_str = input('Masukkan harga saham (pisahkan dengan spasi): ')\n",
    "harga_saham_terpisah = harga_saham_sebagai_str.split()\n",
    "\n",
    "# Konversi input menjadi float dan filter elemen kosong\n",
    "harga_saham = [float(x) for x in harga_saham_terpisah if x]\n",
    "\n",
    "# Memanggil fungsi 'dapatkan_keuntungan_maksimal' dengan harga saham sebagai argumen\n",
    "keuntungan, metadata = dapatkan_keuntungan_maksimal(harga_saham)\n",
    "\n",
    "# Mencetak keuntungan maksimal yang bisa didapatkan\n",
    "print(f'Keuntungan maksimum yang bisa didapatkan: {keuntungan}')\n",
    "\n",
    "# Membuat grafik harga saham dan menandai titik pembelian (hijau) dan penjualan (merah)\n",
    "plt.title('Grafik Harga Saham dan Titik Pembelian/Penjualan')\n",
    "plt.xlabel('Hari')\n",
    "plt.ylabel('Harga')\n",
    "plt.scatter(metadata['harga_terendah']['indeks'], metadata['harga_terendah']['nilai'], marker='^', c='g', label='Pembelian')\n",
    "plt.scatter(metadata['harga_tertinggi']['indeks'], metadata['harga_tertinggi']['nilai'], marker='v', c='r', label='Penjualan')\n",
    "plt.plot(harga_saham, marker='o', label='Harga Saham')\n",
    "plt.legend()\n",
    "plt.show()\n"
   ]
  }
 ],
 "metadata": {
  "kernelspec": {
   "display_name": "Python 3",
   "language": "python",
   "name": "python3"
  },
  "language_info": {
   "codemirror_mode": {
    "name": "ipython",
    "version": 3
   },
   "file_extension": ".py",
   "mimetype": "text/x-python",
   "name": "python",
   "nbconvert_exporter": "python",
   "pygments_lexer": "ipython3",
   "version": "3.12.0"
  }
 },
 "nbformat": 4,
 "nbformat_minor": 2
}
