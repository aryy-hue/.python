{
 "cells": [
  {
   "cell_type": "code",
   "execution_count": 2,
   "metadata": {},
   "outputs": [
    {
     "name": "stdout",
     "output_type": "stream",
     "text": [
      "5\n"
     ]
    }
   ],
   "source": [
    "# Contoh Function\n",
    "def tambah(angka1,angka2):\n",
    "    hasil = angka1 + angka2\n",
    "    return hasil\n",
    "print(tambah(2,3))"
   ]
  },
  {
   "cell_type": "code",
   "execution_count": 23,
   "metadata": {},
   "outputs": [],
   "source": [
    "hari = input(\"Masukan hari apa ini ? \")\n",
    "def jenis_hari(hari):\n",
    "    if hari == \"senin\":\n",
    "        print(\"Hari ini upcara\")\n",
    "    elif hari == \"selasa\":\n",
    "        print(\"Hari ini tidak upacara , hari ini hari kerja\")\n",
    "    elif hari == \"rabu\":\n",
    "        print(\"Hari ini tidak upacara , hari ini hari kerja\")\n",
    "    elif hari == \"kamis\":\n",
    "        print(\"Hari ini tidak upacara , hari ini hari kerja\")\n",
    "    elif hari == \"jumat\":\n",
    "        print(\"Hari ini tidak upacara , hari ini hari kerja\")\n",
    "    else:\n",
    "        print(\"Hari ini bukan hari kerja\")\n",
    "    return hari\n",
    "print(jenis_hari(hari))"
   ]
  },
  {
   "cell_type": "code",
   "execution_count": 21,
   "metadata": {},
   "outputs": [
    {
     "name": "stdout",
     "output_type": "stream",
     "text": [
      "Selamat Pagi,Andi!\n",
      "Halo,Andi!\n"
     ]
    }
   ],
   "source": [
    "def ucapan(salutasi , nama):\n",
    "    print(salutasi + ','  + nama + \"!\")\n",
    "ucapan(\"Selamat Pagi\" , \"Andi\")\n",
    "ucapan(salutasi=\"Halo\" , nama=\"Andi\")"
   ]
  },
  {
   "cell_type": "code",
   "execution_count": 1,
   "metadata": {},
   "outputs": [
    {
     "name": "stdout",
     "output_type": "stream",
     "text": [
      "jenis hewan pertama adalah ayam\n",
      "jenis hewan kedua adalah harimau\n",
      "jenis hewan ketiga adalah harimau\n",
      "jenis hewan adalah gajah\n"
     ]
    }
   ],
   "source": [
    "def hewan():\n",
    "    def hewan1():\n",
    "        jenis = \"angsa\"\n",
    "    def hewan2():\n",
    "        nonlocal jenis\n",
    "        jenis = \"harimau\"\n",
    "    def hewan3():\n",
    "        global jenis\n",
    "        jenis = \"gajah\"\n",
    "\n",
    "    jenis = \"ayam\"\n",
    "    hewan1()\n",
    "    print(f\"jenis hewan pertama adalah {jenis}\")\n",
    "    hewan2()\n",
    "    print(f\"jenis hewan kedua adalah {jenis}\")\n",
    "    hewan3()\n",
    "    print(f\"jenis hewan ketiga adalah {jenis}\")\n",
    "    return hewan\n",
    "\n",
    "hewan()\n",
    "print(f\"jenis hewan adalah {jenis}\")"
   ]
  }
 ],
 "metadata": {
  "kernelspec": {
   "display_name": "Python 3",
   "language": "python",
   "name": "python3"
  },
  "language_info": {
   "codemirror_mode": {
    "name": "ipython",
    "version": 3
   },
   "file_extension": ".py",
   "mimetype": "text/x-python",
   "name": "python",
   "nbconvert_exporter": "python",
   "pygments_lexer": "ipython3",
   "version": "3.12.0"
  }
 },
 "nbformat": 4,
 "nbformat_minor": 2
}
