{
 "cells": [
  {
   "cell_type": "code",
   "execution_count": 2,
   "metadata": {},
   "outputs": [
    {
     "name": "stdout",
     "output_type": "stream",
     "text": [
      "hello world\n",
      "belajar python itenas\n"
     ]
    }
   ],
   "source": [
    "print('hello world')\n",
    "print('belajar python itenas')"
   ]
  },
  {
   "cell_type": "code",
   "execution_count": 1,
   "metadata": {},
   "outputs": [
    {
     "name": "stdout",
     "output_type": "stream",
     "text": [
      "Hello World Nihao\n"
     ]
    }
   ],
   "source": [
    "arya = \"Hello World\"\n",
    "Arya = \" Nihao\"\n",
    "print(arya + Arya)"
   ]
  },
  {
   "cell_type": "code",
   "execution_count": 2,
   "metadata": {},
   "outputs": [
    {
     "name": "stdout",
     "output_type": "stream",
     "text": [
      "Arya\n"
     ]
    },
    {
     "ename": "NameError",
     "evalue": "name 'nama' is not defined",
     "output_type": "error",
     "traceback": [
      "\u001b[1;31m---------------------------------------------------------------------------\u001b[0m",
      "\u001b[1;31mNameError\u001b[0m                                 Traceback (most recent call last)",
      "\u001b[1;32md:\\.Arya\\.Perkuliahan\\Semester 3\\Pemrograman Dasar\\.python\\jupyterTest.ipynb Cell 3\u001b[0m line \u001b[0;36m4\n\u001b[0;32m      <a href='vscode-notebook-cell:/d%3A/.Arya/.Perkuliahan/Semester%203/Pemrograman%20Dasar/.python/jupyterTest.ipynb#W0sZmlsZQ%3D%3D?line=1'>2</a>\u001b[0m \u001b[39mprint\u001b[39m(nama)\n\u001b[0;32m      <a href='vscode-notebook-cell:/d%3A/.Arya/.Perkuliahan/Semester%203/Pemrograman%20Dasar/.python/jupyterTest.ipynb#W0sZmlsZQ%3D%3D?line=2'>3</a>\u001b[0m \u001b[39mdel\u001b[39;00m(nama)\n\u001b[1;32m----> <a href='vscode-notebook-cell:/d%3A/.Arya/.Perkuliahan/Semester%203/Pemrograman%20Dasar/.python/jupyterTest.ipynb#W0sZmlsZQ%3D%3D?line=3'>4</a>\u001b[0m \u001b[39mprint\u001b[39m(nama)\n",
      "\u001b[1;31mNameError\u001b[0m: name 'nama' is not defined"
     ]
    }
   ],
   "source": [
    "nama = \"Arya\"\n",
    "print(nama)\n",
    "del(nama)\n",
    "print(nama)"
   ]
  },
  {
   "cell_type": "code",
   "execution_count": 12,
   "metadata": {},
   "outputs": [
    {
     "name": "stdout",
     "output_type": "stream",
     "text": [
      "Arya Belum menikah\n"
     ]
    }
   ],
   "source": [
    "nama = \"Arya\"\n",
    "isMarried = False\n",
    "if (isMarried == False ):\n",
    "    print(nama,\"Belum menikah\")\n",
    "else:\n",
    "    print(nama,\"Sudah menikah\")"
   ]
  },
  {
   "cell_type": "code",
   "execution_count": 1,
   "metadata": {},
   "outputs": [
    {
     "name": "stdout",
     "output_type": "stream",
     "text": [
      "arya\n",
      "Nama saya arya\n"
     ]
    }
   ],
   "source": [
    "nama = input(\"Masukan nama : \")\n",
    "print(nama)\n",
    "print(\"Nama saya\", nama)"
   ]
  },
  {
   "cell_type": "code",
   "execution_count": 16,
   "metadata": {},
   "outputs": [
    {
     "name": "stdout",
     "output_type": "stream",
     "text": [
      "Helloarya Selamat datang\n"
     ]
    }
   ],
   "source": [
    "nama = input(\"Masukan nama : \")\n",
    "kelas = input(\"Masukan kelas : \")\n",
    "prodi = input(\"Masukan prodi : \")\n",
    "\n",
    "print(f\"Nama saya {nama} kelas {kelas} prodi {prodi}\")"
   ]
  },
  {
   "cell_type": "code",
   "execution_count": 20,
   "metadata": {},
   "outputs": [
    {
     "name": "stdout",
     "output_type": "stream",
     "text": [
      "Hello Arya , Selamat datang di Kampus ITENAS\n"
     ]
    }
   ],
   "source": [
    "nama = input(\"Masukan nama : \")\n",
    "kampus = input(\"Masukan Kampus :\")\n",
    "\n",
    "print(\"Hello {} , Selamat datang di Kampus {}\".format(nama,kampus))"
   ]
  },
  {
   "cell_type": "code",
   "execution_count": 32,
   "metadata": {},
   "outputs": [
    {
     "name": "stdout",
     "output_type": "stream",
     "text": [
      "Nama saya 2\n"
     ]
    }
   ],
   "source": [
    "umur = int(input(\"Masukan umur : \"))\n",
    "\n",
    "print(\"Nama saya %d\" %umur)"
   ]
  },
  {
   "cell_type": "code",
   "execution_count": 39,
   "metadata": {},
   "outputs": [
    {
     "name": "stdout",
     "output_type": "stream",
     "text": [
      "Merkurius Venus Bumi "
     ]
    }
   ],
   "source": [
    "print(\"Merkurius\", end=\" \")\n",
    "print(\"Venus\", end=\" \")\n",
    "print(\"Bumi\", end=\" \")"
   ]
  },
  {
   "cell_type": "code",
   "execution_count": 41,
   "metadata": {},
   "outputs": [
    {
     "name": "stdout",
     "output_type": "stream",
     "text": [
      "1 * 2 = 2\n",
      "1/2=0.5\n"
     ]
    }
   ],
   "source": [
    "a= int(input(\"Masukan Nilai a = \"))\n",
    "b= int(input(\"Masukan Nilai b = \"))\n",
    "\n",
    "print(a,\"*\",b,'=',a*b)\n",
    "\n",
    "print('{}/{}={}'.format(a,b,a/b))"
   ]
  },
  {
   "cell_type": "code",
   "execution_count": 42,
   "metadata": {},
   "outputs": [
    {
     "name": "stdout",
     "output_type": "stream",
     "text": [
      "Selamat datang arya dengan NRP 152022135\n"
     ]
    }
   ],
   "source": [
    "nama = input(\"Masukan nama :\")\n",
    "nrp  = input(\"Masukan NRP :\")\n",
    "\n",
    "print(\"Selamat datang {0} dengan NRP {1}\".format(nama,nrp))"
   ]
  },
  {
   "cell_type": "code",
   "execution_count": 6,
   "metadata": {},
   "outputs": [
    {
     "data": {
      "text/plain": [
       "'Empat'"
      ]
     },
     "execution_count": 6,
     "metadata": {},
     "output_type": "execute_result"
    }
   ],
   "source": [
    "switch = {\n",
    "    1:\"Satu\",\n",
    "    2:\"Dua\",\n",
    "    3:\"Tiga\",\n",
    "    4:\"Empat\"\n",
    "}\n",
    "\n",
    "x=4\n",
    "y=1\n",
    "z= x-y\n",
    "switch.get(x)"
   ]
  },
  {
   "cell_type": "code",
   "execution_count": 9,
   "metadata": {},
   "outputs": [
    {
     "ename": "AttributeError",
     "evalue": "'set' object has no attribute 'get'",
     "output_type": "error",
     "traceback": [
      "\u001b[1;31m---------------------------------------------------------------------------\u001b[0m",
      "\u001b[1;31mAttributeError\u001b[0m                            Traceback (most recent call last)",
      "\u001b[1;32md:\\.Arya\\.Perkuliahan\\Semester 3\\Pemrograman Dasar\\.python\\jupyterTest.ipynb Cell 13\u001b[0m line \u001b[0;36m8\n\u001b[0;32m      <a href='vscode-notebook-cell:/d%3A/.Arya/.Perkuliahan/Semester%203/Pemrograman%20Dasar/.python/jupyterTest.ipynb#X15sZmlsZQ%3D%3D?line=4'>5</a>\u001b[0m pertama \u001b[39m=\u001b[39m nilai_satu\n\u001b[0;32m      <a href='vscode-notebook-cell:/d%3A/.Arya/.Perkuliahan/Semester%203/Pemrograman%20Dasar/.python/jupyterTest.ipynb#X15sZmlsZQ%3D%3D?line=5'>6</a>\u001b[0m kedua \u001b[39m=\u001b[39m nilai_dua\n\u001b[1;32m----> <a href='vscode-notebook-cell:/d%3A/.Arya/.Perkuliahan/Semester%203/Pemrograman%20Dasar/.python/jupyterTest.ipynb#X15sZmlsZQ%3D%3D?line=7'>8</a>\u001b[0m switch\u001b[39m.\u001b[39;49mget(pertama)\n\u001b[0;32m      <a href='vscode-notebook-cell:/d%3A/.Arya/.Perkuliahan/Semester%203/Pemrograman%20Dasar/.python/jupyterTest.ipynb#X15sZmlsZQ%3D%3D?line=8'>9</a>\u001b[0m switch\u001b[39m.\u001b[39mget(kedua)\n",
      "\u001b[1;31mAttributeError\u001b[0m: 'set' object has no attribute 'get'"
     ]
    }
   ],
   "source": [
    "switch = {\n",
    "    nilai_satu := int(input(\"Nilai petama :\")),\n",
    "    nilai_dua := int(input(\"Nilai kedua :\"))\n",
    "}\n",
    "pertama = nilai_satu\n",
    "kedua = nilai_dua\n",
    "\n",
    "switch.set(pertama)\n",
    "switch.set(kedua)"
   ]
  },
  {
   "cell_type": "code",
   "execution_count": 6,
   "metadata": {},
   "outputs": [
    {
     "name": "stdout",
     "output_type": "stream",
     "text": [
      "Hello world\n",
      "Hello world\n",
      "Hello world\n",
      "Hello world\n",
      "Hello world\n"
     ]
    }
   ],
   "source": [
    "i = 0 \n",
    "while i<5:\n",
    "    print(\"Hello world\")\n",
    "    i += 1"
   ]
  },
  {
   "cell_type": "code",
   "execution_count": 7,
   "metadata": {},
   "outputs": [
    {
     "name": "stdout",
     "output_type": "stream",
     "text": [
      "Hellow\n",
      "Hellow\n",
      "Hellow\n",
      "Hellow\n",
      "Hellow\n"
     ]
    }
   ],
   "source": [
    "i=0\n",
    "for i in range(5):\n",
    "    print(\"Hellow\")"
   ]
  },
  {
   "cell_type": "code",
   "execution_count": 21,
   "metadata": {},
   "outputs": [
    {
     "name": "stdout",
     "output_type": "stream",
     "text": [
      "Hello\n",
      "Hello\n",
      "Hello\n",
      "Hello\n",
      "Hello\n"
     ]
    }
   ],
   "source": [
    "i = 0 \n",
    "while(True):\n",
    "    print(\"Hello\")\n",
    "    i += 1\n",
    "    if(i<5):\n",
    "        continue\n",
    "    else:\n",
    "        break"
   ]
  },
  {
   "cell_type": "code",
   "execution_count": 2,
   "metadata": {},
   "outputs": [
    {
     "name": "stdout",
     "output_type": "stream",
     "text": [
      "PROGRAM PYTHON MENGHITUNG NILAI RATA-RATA\n",
      "\n",
      "\n",
      "Rata-rata  = 182.00\n"
     ]
    }
   ],
   "source": [
    "print(\"PROGRAM PYTHON MENGHITUNG NILAI RATA-RATA\")\n",
    "\n",
    "n = int(input(\"\\nBanyaknya Data: \"))\n",
    "\n",
    "print() #Membuat baris baru\n",
    "data = []\n",
    "jum = 0\n",
    "\n",
    "for i in range(0, n):\n",
    "    temp = int(input(\"Masukkan data ke-%d: \" % (i+1)))\n",
    "    data.append(temp)\n",
    "    jum += data[i]\n",
    "    rata2 = jum / n\n",
    "\n",
    "print(\"\\nRata-rata  = %0.2f\" % rata2)"
   ]
  }
 ],
 "metadata": {
  "kernelspec": {
   "display_name": "Python 3",
   "language": "python",
   "name": "python3"
  },
  "language_info": {
   "codemirror_mode": {
    "name": "ipython",
    "version": 3
   },
   "file_extension": ".py",
   "mimetype": "text/x-python",
   "name": "python",
   "nbconvert_exporter": "python",
   "pygments_lexer": "ipython3",
   "version": "3.12.0"
  },
  "orig_nbformat": 4
 },
 "nbformat": 4,
 "nbformat_minor": 2
}
