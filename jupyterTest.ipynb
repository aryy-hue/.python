{
 "cells": [
  {
   "cell_type": "code",
   "execution_count": 2,
   "metadata": {},
   "outputs": [
    {
     "name": "stdout",
     "output_type": "stream",
     "text": [
      "hello world\n",
      "belajar python itenas\n"
     ]
    }
   ],
   "source": [
    "print('hello world')\n",
    "print('belajar python itenas')"
   ]
  },
  {
   "cell_type": "code",
   "execution_count": 1,
   "metadata": {},
   "outputs": [
    {
     "name": "stdout",
     "output_type": "stream",
     "text": [
      "Hello World Nihao\n"
     ]
    }
   ],
   "source": [
    "arya = \"Hello World\"\n",
    "Arya = \" Nihao\"\n",
    "print(arya + Arya)"
   ]
  },
  {
   "cell_type": "code",
   "execution_count": 2,
   "metadata": {},
   "outputs": [
    {
     "name": "stdout",
     "output_type": "stream",
     "text": [
      "Arya\n"
     ]
    },
    {
     "ename": "NameError",
     "evalue": "name 'nama' is not defined",
     "output_type": "error",
     "traceback": [
      "\u001b[1;31m---------------------------------------------------------------------------\u001b[0m",
      "\u001b[1;31mNameError\u001b[0m                                 Traceback (most recent call last)",
      "\u001b[1;32md:\\.Arya\\.Perkuliahan\\Semester 3\\Pemrograman Dasar\\.python\\jupyterTest.ipynb Cell 3\u001b[0m line \u001b[0;36m4\n\u001b[0;32m      <a href='vscode-notebook-cell:/d%3A/.Arya/.Perkuliahan/Semester%203/Pemrograman%20Dasar/.python/jupyterTest.ipynb#W0sZmlsZQ%3D%3D?line=1'>2</a>\u001b[0m \u001b[39mprint\u001b[39m(nama)\n\u001b[0;32m      <a href='vscode-notebook-cell:/d%3A/.Arya/.Perkuliahan/Semester%203/Pemrograman%20Dasar/.python/jupyterTest.ipynb#W0sZmlsZQ%3D%3D?line=2'>3</a>\u001b[0m \u001b[39mdel\u001b[39;00m(nama)\n\u001b[1;32m----> <a href='vscode-notebook-cell:/d%3A/.Arya/.Perkuliahan/Semester%203/Pemrograman%20Dasar/.python/jupyterTest.ipynb#W0sZmlsZQ%3D%3D?line=3'>4</a>\u001b[0m \u001b[39mprint\u001b[39m(nama)\n",
      "\u001b[1;31mNameError\u001b[0m: name 'nama' is not defined"
     ]
    }
   ],
   "source": [
    "nama = \"Arya\"\n",
    "print(nama)\n",
    "del(nama)\n",
    "print(nama)"
   ]
  },
  {
   "cell_type": "code",
   "execution_count": 12,
   "metadata": {},
   "outputs": [
    {
     "name": "stdout",
     "output_type": "stream",
     "text": [
      "Arya Belum menikah\n"
     ]
    }
   ],
   "source": [
    "nama = \"Arya\"\n",
    "isMarried = False\n",
    "if (isMarried == False ):\n",
    "    print(nama,\"Belum menikah\")\n",
    "else:\n",
    "    print(nama,\"Sudah menikah\")"
   ]
  },
  {
   "cell_type": "code",
   "execution_count": 1,
   "metadata": {},
   "outputs": [
    {
     "name": "stdout",
     "output_type": "stream",
     "text": [
      "arya\n",
      "Nama saya arya\n"
     ]
    }
   ],
   "source": [
    "nama = input(\"Masukan nama : \")\n",
    "print(nama)\n",
    "print(\"Nama saya\", nama)"
   ]
  },
  {
   "cell_type": "code",
   "execution_count": 16,
   "metadata": {},
   "outputs": [
    {
     "name": "stdout",
     "output_type": "stream",
     "text": [
      "Helloarya Selamat datang\n"
     ]
    }
   ],
   "source": [
    "nama = input(\"Masukan nama : \")\n",
    "kelas = input(\"Masukan kelas : \")\n",
    "prodi = input(\"Masukan prodi : \")\n",
    "\n",
    "print(f\"Nama saya {nama} kelas {kelas} prodi {prodi}\")"
   ]
  },
  {
   "cell_type": "code",
   "execution_count": 20,
   "metadata": {},
   "outputs": [
    {
     "name": "stdout",
     "output_type": "stream",
     "text": [
      "Hello Arya , Selamat datang di Kampus ITENAS\n"
     ]
    }
   ],
   "source": [
    "nama = input(\"Masukan nama : \")\n",
    "kampus = input(\"Masukan Kampus :\")\n",
    "\n",
    "print(\"Hello {} , Selamat datang di Kampus {}\".format(nama,kampus))"
   ]
  }
 ],
 "metadata": {
  "kernelspec": {
   "display_name": "Python 3",
   "language": "python",
   "name": "python3"
  },
  "language_info": {
   "codemirror_mode": {
    "name": "ipython",
    "version": 3
   },
   "file_extension": ".py",
   "mimetype": "text/x-python",
   "name": "python",
   "nbconvert_exporter": "python",
   "pygments_lexer": "ipython3",
   "version": "3.11.2"
  },
  "orig_nbformat": 4
 },
 "nbformat": 4,
 "nbformat_minor": 2
}
